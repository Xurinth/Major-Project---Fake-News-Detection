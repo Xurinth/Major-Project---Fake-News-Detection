{
 "cells": [
  {
   "cell_type": "code",
   "execution_count": 3,
   "id": "c7fb04d3-c73e-429c-ae15-6cab85136b22",
   "metadata": {},
   "outputs": [],
   "source": [
    "from transformers import BertTokenizer, BertForSequenceClassification\n",
    "import torch\n",
    "import os"
   ]
  },
  {
   "cell_type": "code",
   "execution_count": 1,
   "id": "654a2a06-d691-496d-a7b8-8cc4d758e347",
   "metadata": {},
   "outputs": [
    {
     "name": "stdin",
     "output_type": "stream",
     "text": [
      "Enter the name of the model to load:  PT08v2\n"
     ]
    },
    {
     "name": "stdout",
     "output_type": "stream",
     "text": [
      "Model 'PT08v2' loaded successfully.\n"
     ]
    }
   ],
   "source": [
    "# Fixed path for loading the model\n",
    "model_dir = \"E:\\\\Major Project\\\\Models\\\\\"\n",
    "\n",
    "# Prompt the user for the model name\n",
    "model_name = input(\"Enter the name of the model to load: \")\n",
    "\n",
    "# Construct the full path to the model\n",
    "model_path = os.path.join(model_dir, model_name)\n",
    "\n",
    "# Load the saved model and tokenizer\n",
    "model = BertForSequenceClassification.from_pretrained(model_path)\n",
    "tokenizer = BertTokenizer.from_pretrained(model_path)\n",
    "\n",
    "print(f\"Model '{model_name}' loaded successfully.\")"
   ]
  },
  {
   "cell_type": "code",
   "execution_count": 4,
   "id": "8669544f-f861-4221-9b9d-de3ad0a17047",
   "metadata": {},
   "outputs": [
    {
     "data": {
      "text/plain": [
       "BertForSequenceClassification(\n",
       "  (bert): BertModel(\n",
       "    (embeddings): BertEmbeddings(\n",
       "      (word_embeddings): Embedding(30522, 768, padding_idx=0)\n",
       "      (position_embeddings): Embedding(512, 768)\n",
       "      (token_type_embeddings): Embedding(2, 768)\n",
       "      (LayerNorm): LayerNorm((768,), eps=1e-12, elementwise_affine=True)\n",
       "      (dropout): Dropout(p=0.1, inplace=False)\n",
       "    )\n",
       "    (encoder): BertEncoder(\n",
       "      (layer): ModuleList(\n",
       "        (0-11): 12 x BertLayer(\n",
       "          (attention): BertAttention(\n",
       "            (self): BertSelfAttention(\n",
       "              (query): Linear(in_features=768, out_features=768, bias=True)\n",
       "              (key): Linear(in_features=768, out_features=768, bias=True)\n",
       "              (value): Linear(in_features=768, out_features=768, bias=True)\n",
       "              (dropout): Dropout(p=0.1, inplace=False)\n",
       "            )\n",
       "            (output): BertSelfOutput(\n",
       "              (dense): Linear(in_features=768, out_features=768, bias=True)\n",
       "              (LayerNorm): LayerNorm((768,), eps=1e-12, elementwise_affine=True)\n",
       "              (dropout): Dropout(p=0.1, inplace=False)\n",
       "            )\n",
       "          )\n",
       "          (intermediate): BertIntermediate(\n",
       "            (dense): Linear(in_features=768, out_features=3072, bias=True)\n",
       "            (intermediate_act_fn): GELUActivation()\n",
       "          )\n",
       "          (output): BertOutput(\n",
       "            (dense): Linear(in_features=3072, out_features=768, bias=True)\n",
       "            (LayerNorm): LayerNorm((768,), eps=1e-12, elementwise_affine=True)\n",
       "            (dropout): Dropout(p=0.1, inplace=False)\n",
       "          )\n",
       "        )\n",
       "      )\n",
       "    )\n",
       "    (pooler): BertPooler(\n",
       "      (dense): Linear(in_features=768, out_features=768, bias=True)\n",
       "      (activation): Tanh()\n",
       "    )\n",
       "  )\n",
       "  (dropout): Dropout(p=0.1, inplace=False)\n",
       "  (classifier): Linear(in_features=768, out_features=2, bias=True)\n",
       ")"
      ]
     },
     "execution_count": 4,
     "metadata": {},
     "output_type": "execute_result"
    }
   ],
   "source": [
    "# Set the device (GPU or CPU)\n",
    "device = torch.device('cuda' if torch.cuda.is_available() else 'cpu')\n",
    "model.to(device)"
   ]
  },
  {
   "cell_type": "code",
   "execution_count": 5,
   "id": "59cdb28c-60ee-43da-ae2f-67379d20e9ac",
   "metadata": {},
   "outputs": [
    {
     "name": "stdin",
     "output_type": "stream",
     "text": [
      "Enter the news article text (or 'quit' to exit):  newt gingrich says federal workers voted hillary clinton fired newt gingrich speaker house resigned shame turned trump s biggest cheerleader new litmus test determine federal worker keeps job vote donald trump hillary clintonwhile discussing trump administration s budget 10 5 trillion cut fro government programs gingrich told heritage foundation order balance relationship trump bureaucracy federal workers voted supported clinton fired bureaucrats overwhelmingly voted clinton won t real cooperation change federal law fire budget modeled heritage foundation s seeking nearly cut discretionary spending federal bureaucracy includes federal agency budget cuts 10 percent employee cuts 20 percent coincidentally 20 percent federal workforce black 90 percent blacks voted clinton m sure s coincidence dog whistle louder louder fact revelation isn t making widespread headlines failure mainstream journalism powerful politician close ties current administration advocating firing people different political affiliations political witch hunt mirrors dark days mccarthyism doesn t subscribe racist sexist xenophobic authoritarian regime trump presidency risk losing job low level nonpolitical jobs happened republican mantra people judged based ethics results trump s america s blind patriotism racism blind ideology suppression facts science vendettas gop vehicle fascist authoritarian regime trump leading movement remember gop outraged irs targeting conservative groups political affiliations aren t democrats outraged rank hypocrisythe resistance starts resisting trump s camp trump featured image flickr\n"
     ]
    },
    {
     "name": "stdout",
     "output_type": "stream",
     "text": [
      "The news article is predicted to be fake.\n",
      "\n"
     ]
    },
    {
     "name": "stdin",
     "output_type": "stream",
     "text": [
      "Enter the news article text (or 'quit' to exit):  s appeals court rejects trumps bid bar refugees new york reuters s appeals court thursday rejected trump administrations effort temporarily bar refugees entering country ruling relationships resettlement agency exempt executive order banning refugees threejudge 9th s circuit court appeals panel ruled grandparents aunts uncles cousins legal s residents exempted president donald trumps order banned travelers muslimmajority countries ruling latest legal blow presidents sweeping executive order barring travelers iran syria libya somalia sudan yemen 90 days republican president said necessary national security justices said government persuasively explain travel ban enforced close relatives people countries refugees guarantees resettlement agencies 30 ruling takes effect days s supreme court ruled june trumps ban implemented limited basis applied people bona fide relationships people entities united states government took narrow view interpretation state hawaii challenged court lower court judge sided hawaii 9th circuit judges upheld view hard grandparent grandchild aunt uncle niece nephew siblinginlaw cousin considered bona fide relationship relative united states court said court rejected administrations argument written assurances provided resettlement agencies obligating provide services specific refugees bona fide relationship agencies advance preparation expenditure resources refugee supports district courts determination bona fide relationship refugee exists decision said trumps version executive order signed january sparked protests chaos airports country world blocked courts administration replaced version ban new order march response legal challenges department justice spokeswoman said supreme court stepped correct lower courts return supreme court vindicate executive branchs duty protect nation hawaiis attorney general douglas chin said ruling keeps families gives vetted refugees second chance trump administration keeps taking actions legal basis fighting refugee organizations cheered thursdays decision saying relief people fleeing violence caught limbo ban broader question revised travel ban discriminates muslims violation s constitution considered s supreme court october\n"
     ]
    },
    {
     "name": "stdout",
     "output_type": "stream",
     "text": [
      "The news article is predicted to be real.\n",
      "\n"
     ]
    },
    {
     "name": "stdin",
     "output_type": "stream",
     "text": [
      "Enter the news article text (or 'quit' to exit):  n tiptoes trump stance torture refugees geneva reuters united nations reaffirmed friday torture illegal refugees deserve protection ducking direct criticism remarks new s president donald trump major human rights groups denounced trumps stance torture warned restoring cia secret detention program interrogating terror suspects trump reviewing spending including n united states largest donor international human rights law clear absolute prohibition torture n human rights spokesman rupert colville told news briefing pressed repeatedly comment trumps remarks week torture works colville noted prominent s senators including republican john mccain torture victim democrat dianne feinstein chaired inquiry cia program president george w bush spoken early days terms n human rights office interacts new administration said work strategically going effective unhcr tepid comments trumps moves restrict refugees expected sign executive order include temporary ban refugees suspension visas citizens syria middle eastern african countries course unhcr believes refugees offered assistance protection opportunities resettlement regardless race religion ethnicity unhcr spokeswoman vannina maestracci said s department homeland security temporarily halted trips staff interview refugees abroad ahead likely shakeup refugee policy trump sources said thursday election campaign trump decried president barack obamas decision increase number syrian refugees admitted united states fears fleeing countrys civil war carry attacks 250 refugees resettled united states october yearend unhcrs program vulnerable maestracci said host s federal government agencies involved extensive background checks carried said think fair refugees coming united states resettled vetted individuals entering united states maestracci said\n"
     ]
    },
    {
     "name": "stdout",
     "output_type": "stream",
     "text": [
      "The news article is predicted to be real.\n",
      "\n"
     ]
    },
    {
     "name": "stdin",
     "output_type": "stream",
     "text": [
      "Enter the news article text (or 'quit' to exit):  arnold schwarzenegger destroys trump muslim ban making america look stupid video donald trump s disgusting muslim ban criticized far wide protests petitions sprung country world trump s peers celebrity apprentice host arnold schwarzenegger weighed trump s ban s particularly brutal schwarzenegger immigrant added thoughts truly unjust vile way express hatred xenophobia interview mario lopez schwarzenegger bashed trump administration s incompetent humiliating rollout executive order immigration led chaos public outcry schwarzenegger governor california stated trump s ban vetted badly way going right way accomplish goals think hasty schwarzenegger gave personal experience immigrating united states 1968 shamed trump clumsy delivery said ban people green card means united states america given permission work permanently country way permanent citizenship position s crazy s crazy makes look stupid white house illprepared kind executive orders schwarzenegger said hoped trump moronic helpers learn incident use wakeup judging protests outcry generated trump s muslim ban america stand inclusive policies watch trump blasted belowfeatured image pool ty wright getty images\n"
     ]
    },
    {
     "name": "stdout",
     "output_type": "stream",
     "text": [
      "The news article is predicted to be fake.\n",
      "\n"
     ]
    },
    {
     "name": "stdin",
     "output_type": "stream",
     "text": [
      "Enter the news article text (or 'quit' to exit):  wellregulated militia member shoots 12yearold girl stomach target practice know wellregulated militia mentioned second amendment members shot 12yearold daughter group s leader yes group responsible gun owners friends right deem necessary fend tyrannical government t handle toys avoid shooting children inexplicably bring target practice idaho group meeting local gun range group involved armed occupation malheur national wildlife refuge month decided enjoy target practice blow sort steam needs blow total defeat hands tyrannical government according president group brandon curtiss accident occurred member failed proper safety precautions clearing gun curtiss says weapon discharged bullet ricocheted metal table shelter struck girl stomach projectile pierced girl s abdomen exited true testament freedom sandra sullivan shared post pacific patriots network containing details clearing weapon accidental discharge bullet hit metal table canopy area ricocheted struck 12 year old daughter sean odie donahue stomach exiting sullivan s message reads spoke sean sounds going ok able tell loved loading helicopter post begs donations help girl justice sort end shooter bars negligence reminding members time ask details idaho group showed aid ammon bundy occupation malheur securing perimeter group s offer ultimately rejected armed insurgency leader group took cliven bundy s armed standoff federal officials 2014 fbi want remember consider additional charges militants sure people believe defending freedom playing cowboy end group people touch gun group unfortunately spends time playing cowboys tyranny girl reportedly recovering injuries featured image facebook\n"
     ]
    },
    {
     "name": "stdout",
     "output_type": "stream",
     "text": [
      "The news article is predicted to be fake.\n",
      "\n"
     ]
    },
    {
     "ename": "KeyboardInterrupt",
     "evalue": "Interrupted by user",
     "output_type": "error",
     "traceback": [
      "\u001b[1;31m---------------------------------------------------------------------------\u001b[0m",
      "\u001b[1;31mKeyboardInterrupt\u001b[0m                         Traceback (most recent call last)",
      "Cell \u001b[1;32mIn[5], line 18\u001b[0m\n\u001b[0;32m     16\u001b[0m \u001b[38;5;66;03m# Example usage\u001b[39;00m\n\u001b[0;32m     17\u001b[0m \u001b[38;5;28;01mwhile\u001b[39;00m \u001b[38;5;28;01mTrue\u001b[39;00m:\n\u001b[1;32m---> 18\u001b[0m     news_text \u001b[38;5;241m=\u001b[39m \u001b[38;5;28minput\u001b[39m(\u001b[38;5;124m\"\u001b[39m\u001b[38;5;124mEnter the news article text (or \u001b[39m\u001b[38;5;124m'\u001b[39m\u001b[38;5;124mquit\u001b[39m\u001b[38;5;124m'\u001b[39m\u001b[38;5;124m to exit): \u001b[39m\u001b[38;5;124m\"\u001b[39m)\n\u001b[0;32m     19\u001b[0m     \u001b[38;5;28;01mif\u001b[39;00m news_text\u001b[38;5;241m.\u001b[39mlower() \u001b[38;5;241m==\u001b[39m \u001b[38;5;124m'\u001b[39m\u001b[38;5;124mquit\u001b[39m\u001b[38;5;124m'\u001b[39m:\n\u001b[0;32m     20\u001b[0m         \u001b[38;5;28;01mbreak\u001b[39;00m\n",
      "File \u001b[1;32m~\\anaconda3\\Lib\\site-packages\\ipykernel\\kernelbase.py:1262\u001b[0m, in \u001b[0;36mKernel.raw_input\u001b[1;34m(self, prompt)\u001b[0m\n\u001b[0;32m   1260\u001b[0m     msg \u001b[38;5;241m=\u001b[39m \u001b[38;5;124m\"\u001b[39m\u001b[38;5;124mraw_input was called, but this frontend does not support input requests.\u001b[39m\u001b[38;5;124m\"\u001b[39m\n\u001b[0;32m   1261\u001b[0m     \u001b[38;5;28;01mraise\u001b[39;00m StdinNotImplementedError(msg)\n\u001b[1;32m-> 1262\u001b[0m \u001b[38;5;28;01mreturn\u001b[39;00m \u001b[38;5;28mself\u001b[39m\u001b[38;5;241m.\u001b[39m_input_request(\n\u001b[0;32m   1263\u001b[0m     \u001b[38;5;28mstr\u001b[39m(prompt),\n\u001b[0;32m   1264\u001b[0m     \u001b[38;5;28mself\u001b[39m\u001b[38;5;241m.\u001b[39m_parent_ident[\u001b[38;5;124m\"\u001b[39m\u001b[38;5;124mshell\u001b[39m\u001b[38;5;124m\"\u001b[39m],\n\u001b[0;32m   1265\u001b[0m     \u001b[38;5;28mself\u001b[39m\u001b[38;5;241m.\u001b[39mget_parent(\u001b[38;5;124m\"\u001b[39m\u001b[38;5;124mshell\u001b[39m\u001b[38;5;124m\"\u001b[39m),\n\u001b[0;32m   1266\u001b[0m     password\u001b[38;5;241m=\u001b[39m\u001b[38;5;28;01mFalse\u001b[39;00m,\n\u001b[0;32m   1267\u001b[0m )\n",
      "File \u001b[1;32m~\\anaconda3\\Lib\\site-packages\\ipykernel\\kernelbase.py:1305\u001b[0m, in \u001b[0;36mKernel._input_request\u001b[1;34m(self, prompt, ident, parent, password)\u001b[0m\n\u001b[0;32m   1302\u001b[0m \u001b[38;5;28;01mexcept\u001b[39;00m \u001b[38;5;167;01mKeyboardInterrupt\u001b[39;00m:\n\u001b[0;32m   1303\u001b[0m     \u001b[38;5;66;03m# re-raise KeyboardInterrupt, to truncate traceback\u001b[39;00m\n\u001b[0;32m   1304\u001b[0m     msg \u001b[38;5;241m=\u001b[39m \u001b[38;5;124m\"\u001b[39m\u001b[38;5;124mInterrupted by user\u001b[39m\u001b[38;5;124m\"\u001b[39m\n\u001b[1;32m-> 1305\u001b[0m     \u001b[38;5;28;01mraise\u001b[39;00m \u001b[38;5;167;01mKeyboardInterrupt\u001b[39;00m(msg) \u001b[38;5;28;01mfrom\u001b[39;00m \u001b[38;5;28;01mNone\u001b[39;00m\n\u001b[0;32m   1306\u001b[0m \u001b[38;5;28;01mexcept\u001b[39;00m \u001b[38;5;167;01mException\u001b[39;00m:\n\u001b[0;32m   1307\u001b[0m     \u001b[38;5;28mself\u001b[39m\u001b[38;5;241m.\u001b[39mlog\u001b[38;5;241m.\u001b[39mwarning(\u001b[38;5;124m\"\u001b[39m\u001b[38;5;124mInvalid Message:\u001b[39m\u001b[38;5;124m\"\u001b[39m, exc_info\u001b[38;5;241m=\u001b[39m\u001b[38;5;28;01mTrue\u001b[39;00m)\n",
      "\u001b[1;31mKeyboardInterrupt\u001b[0m: Interrupted by user"
     ]
    }
   ],
   "source": [
    "# Function to predict if a news article is fake or not\n",
    "def predict_fake_news(text):\n",
    "    # Tokenize the input text\n",
    "    inputs = tokenizer(text, truncation=True, padding=True, return_tensors='pt')\n",
    "    input_ids = inputs['input_ids'].to(device)\n",
    "    attention_mask = inputs['attention_mask'].to(device)\n",
    "\n",
    "    # Make the prediction\n",
    "    with torch.no_grad():\n",
    "        outputs = model(input_ids, attention_mask=attention_mask)\n",
    "        logits = outputs.logits\n",
    "        predicted_class = torch.argmax(logits, dim=1).item()\n",
    "\n",
    "    return predicted_class\n",
    "\n",
    "# Example usage\n",
    "while True:\n",
    "    news_text = input(\"Enter the news article text (or 'quit' to exit): \")\n",
    "    if news_text.lower() == 'quit':\n",
    "        break\n",
    "\n",
    "    predicted_label = predict_fake_news(news_text)\n",
    "\n",
    "    if predicted_label == 0:\n",
    "        print(\"The news article is predicted to be real.\")\n",
    "    else:\n",
    "        print(\"The news article is predicted to be fake.\")\n",
    "\n",
    "    print()"
   ]
  },
  {
   "cell_type": "code",
   "execution_count": null,
   "id": "ab734d90-5427-4473-9f77-3ab26d1048a2",
   "metadata": {},
   "outputs": [],
   "source": []
  }
 ],
 "metadata": {
  "kernelspec": {
   "display_name": "Python 3 (ipykernel)",
   "language": "python",
   "name": "python3"
  },
  "language_info": {
   "codemirror_mode": {
    "name": "ipython",
    "version": 3
   },
   "file_extension": ".py",
   "mimetype": "text/x-python",
   "name": "python",
   "nbconvert_exporter": "python",
   "pygments_lexer": "ipython3",
   "version": "3.11.7"
  }
 },
 "nbformat": 4,
 "nbformat_minor": 5
}
